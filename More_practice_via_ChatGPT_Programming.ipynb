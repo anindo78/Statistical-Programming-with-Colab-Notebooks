{
  "nbformat": 4,
  "nbformat_minor": 0,
  "metadata": {
    "colab": {
      "provenance": [],
      "authorship_tag": "ABX9TyP1RnIjgJVZqBVg44yB37w1",
      "include_colab_link": true
    },
    "kernelspec": {
      "name": "python3",
      "display_name": "Python 3"
    },
    "language_info": {
      "name": "python"
    }
  },
  "cells": [
    {
      "cell_type": "markdown",
      "metadata": {
        "id": "view-in-github",
        "colab_type": "text"
      },
      "source": [
        "<a href=\"https://colab.research.google.com/github/anindo78/Statistical-Programming-with-Colab-Notebooks/blob/main/More_practice_via_ChatGPT_Programming.ipynb\" target=\"_parent\"><img src=\"https://colab.research.google.com/assets/colab-badge.svg\" alt=\"Open In Colab\"/></a>"
      ]
    },
    {
      "cell_type": "markdown",
      "source": [
        "# **✅ Case 1: Low Complexity (Binomial Distribution & p-value)**\n",
        "\n",
        "\n",
        "\n",
        "# Scenario:\n",
        "An online retail ad campaign gets a click-through rate (CTR) of 3.5% from 10,000 impressions. Historically, the CTR for such campaigns is 3%.\n",
        "\n",
        "Question:\n",
        "Using a binomial model, test whether the observed CTR is significantly higher than historical performance at the 5% significance level.\n",
        "\n",
        "Tasks:\n",
        "\n",
        "Define null and alternative hypotheses.\n",
        "\n",
        "Compute the p-value using normal approximation.\n",
        "\n",
        "Interpret the result."
      ],
      "metadata": {
        "id": "5otU405kiFVC"
      }
    },
    {
      "cell_type": "code",
      "execution_count": null,
      "metadata": {
        "colab": {
          "base_uri": "https://localhost:8080/"
        },
        "id": "Kao7bgXuh-50",
        "outputId": "82fb7125-a0bb-4c70-edfb-2b86dc7ea3dc"
      },
      "outputs": [
        {
          "output_type": "stream",
          "name": "stdout",
          "text": [
            "Does the SF condition satisfied in this case: True\n",
            "The z score obtained is higher than z critical: True\n",
            " The p value is : 0.001689081641775844 since True we can reject \n"
          ]
        }
      ],
      "source": [
        "import numpy as np\n",
        "import scipy.stats as stats\n",
        "\n",
        "n = 10000\n",
        "ctr = 0.035\n",
        "\n",
        "mu = 0.03\n",
        "\n",
        "# Compare mean to a fixed value. independent - probably random so no issue. check for SF condition\n",
        "print(f\"Does the SF condition satisfied in this case: {(n * ctr > 10) & (n * ( 1 - ctr) > 10)}\")\n",
        "\n",
        "\n",
        "# h0: ctr = mu; h1: ctr > mu\n",
        "alpha = 0.05\n",
        "\n",
        "se = np.sqrt(mu * (1 - mu) / n)\n",
        "\n",
        "z_critical = stats.norm.ppf(1 - alpha)\n",
        "z_score = (ctr - mu) / se\n",
        "\n",
        "p_value = stats.norm.sf(z_score)\n",
        "\n",
        "print(f\"The z score obtained is higher than z critical: {z_score > z_critical}\")\n",
        "print(f\" The p value is : {p_value} since {p_value < alpha} we can {'reject' if p_value < alpha else 'accept'} \")\n",
        "\n"
      ]
    },
    {
      "cell_type": "markdown",
      "source": [
        "# **✅ Case 2: Medium Complexity (Central Limit Theorem & Monte Carlo Simulation)**\n",
        "\n",
        "\n",
        "\n",
        "Scenario:\n",
        "You’re analyzing session durations (in seconds) on a shopping site. You know the population is right-skewed with μ = 120 and σ = 60.\n",
        "\n",
        "Question:\n",
        "Simulate drawing random samples of size 30 and 100 repeatedly to demonstrate how the sample means behave.\n",
        "\n",
        "Tasks:\n",
        "\n",
        "Use Monte Carlo simulation to draw 10,000 samples of each size.\n",
        "\n",
        "Plot sampling distributions.\n",
        "\n",
        "Compare means and standard deviations of the sample means.\n",
        "\n",
        "Comment on the Central Limit Theorem in action."
      ],
      "metadata": {
        "id": "DlMBMd_uksXK"
      }
    },
    {
      "cell_type": "code",
      "source": [
        "import matplotlib.pyplot as plt\n",
        "\n",
        "\n",
        "mu = 120\n",
        "sigma = 60\n",
        "\n",
        "n = [30, 100]\n",
        "sims = 10000\n",
        "\n",
        "samp_means1 = []\n",
        "samp_means2 = []\n",
        "\n",
        "for i in range(sims + 1):\n",
        "\n",
        "  sample = np.random.normal(loc = mu, scale = sigma, size = n[0])\n",
        "  samp_means1.append(np.mean(sample))\n",
        "\n",
        "  sample = np.random.normal(loc = mu, scale = sigma, size = n[1])\n",
        "  samp_means2.append(np.mean(sample))\n",
        "\n",
        "mean_samp_mean1 = np.mean(samp_means1)\n",
        "mean_samp_mean2 = np.mean(samp_means2)\n",
        "\n",
        "std_samp_mean1 = np.mean(samp_means1)\n",
        "std_samp_mean2 = np.mean(samp_means2)\n",
        "\n",
        "print(f\"The means & std when n = 30 is {mean_samp_mean1, std_samp_mean1}\")\n",
        "print(f\"The means & std when n = 100 is {mean_samp_mean2, std_samp_mean2}\")\n",
        "\n",
        "# plot\n",
        "plt.figure(figsize = (6, 4))\n",
        "plt.hist(samp_means1, density = True, bins = 50, alpha = 0.6, color = 'red', label = 'n = 30')\n",
        "plt.hist(samp_means2, density = True, bins = 50, alpha = 0.6, color = 'blue', label = 'n = 100')\n",
        "plt.legend()\n",
        "plt.show()"
      ],
      "metadata": {
        "colab": {
          "base_uri": "https://localhost:8080/",
          "height": 403
        },
        "id": "xDJRjPkwh_p0",
        "outputId": "ebc8b966-e9ec-478a-f5f7-3341700cbd11"
      },
      "execution_count": null,
      "outputs": [
        {
          "output_type": "stream",
          "name": "stdout",
          "text": [
            "The means & std when n = 30 is (np.float64(120.0764244920727), np.float64(120.0764244920727))\n",
            "The means & std when n = 100 is (np.float64(119.96672276200373), np.float64(119.96672276200373))\n"
          ]
        },
        {
          "output_type": "display_data",
          "data": {
            "text/plain": [
              "<Figure size 600x400 with 1 Axes>"
            ],
            "image/png": "[encoded data removed]"
          },
          "metadata": {}
        }
      ]
    },
    {
      "cell_type": "markdown",
      "source": [
        "# **✅ Case 3: High Complexity (Two-Sample Hypothesis Test with Bootstrapping)**\n",
        "\n",
        "\n",
        "\n",
        "Scenario:\n",
        "Two ad formats (A and B) were tested across 1,000 users each. The conversion rate for A was 6.1%, and for B it was 5.2%. A product team wants to know if the difference is statistically significant.\n",
        "\n",
        "**Question:**\n",
        "\n",
        "Test whether Ad A performs better than Ad B using:\n",
        "\n",
        "A z-test for proportions.\n",
        "\n",
        "Bootstrapping with 10,000 resamples to estimate the sampling distribution of the difference.\n",
        "\n",
        "Tasks:\n",
        "\n",
        "Compute the p-value from the z-test.\n",
        "\n",
        "Generate a bootstrap distribution of the difference in proportions.\n",
        "\n",
        "Create a 95% confidence interval using the bootstrap distribution.\n",
        "\n",
        "Interpret both results."
      ],
      "metadata": {
        "id": "EqE-RV4nmrqE"
      }
    },
    {
      "cell_type": "code",
      "source": [
        "p1 = 6.1\n",
        "p2 = 5.2\n",
        "alpha = 0.05\n",
        "\n",
        "n1, n2 = 1000, 1000\n",
        "\n",
        "# z test for proportions. h0: the proportions are the same, so we can used pooled. h1: the proportions are not same\n",
        "\n",
        "p = (p1/100 * n1 + p2/100 * n2) / (n1 + n2)\n",
        "pooled_se = np.sqrt(p * (1 - p) * (1 / n1 + 1 / n2))\n",
        "print(p, pooled_se)\n",
        "\n",
        "z_score = (p1 - p2) / pooled_se\n",
        "z_critical = stats.norm.ppf(1 - alpha / 2)\n",
        "\n",
        "p_val = 2 * (1 - stats.norm.cdf(np.abs(z_score)))\n",
        "\n",
        "print(f\"The z score {z_score} obtained is higher than z critical: {abs(z_score) > z_critical}\")\n",
        "print(f\" The p value is : {p_value} since {p_value < alpha} we can {'reject' if p_value < alpha else 'accept'} \")"
      ],
      "metadata": {
        "colab": {
          "base_uri": "https://localhost:8080/"
        },
        "id": "cQBqnoDGh_sj",
        "outputId": "468010b4-388d-4b0f-9f8b-33d65818a74e"
      },
      "execution_count": null,
      "outputs": [
        {
          "output_type": "stream",
          "name": "stdout",
          "text": [
            "0.0565 0.010325478197158715\n",
            "The z score 87.16303330606561 obtained is higher than z critical: True\n",
            " The p value is : 0.001689081641775844 since True we can reject \n"
          ]
        }
      ]
    },
    {
      "cell_type": "code",
      "source": [
        "# generate bootstrap distribution of diff in proportions\n",
        "\n",
        "sims = 100000\n",
        "diff_proportions = []\n",
        "\n",
        "# create a sample from binomial for both the ad formats\n",
        "s1 = np.random.binomial(1, p1/100, size = 1000)\n",
        "s2 = np.random.binomial(1, p2/100, size = 1000)\n",
        "\n",
        "for i in range(sims + 1):\n",
        "\n",
        "  sample1 = np.random.choice(s1, size = 1000, replace = True)\n",
        "  sample2 = np.random.choice(s2, size = 1000, replace = True)\n",
        "\n",
        "  diff_proportions.append(np.mean(sample1) - np.mean(sample2))\n",
        "\n",
        "# ci\n",
        "ci_lower = np.percentile(diff_proportions, alpha / 2 * 100)\n",
        "ci_upper = np.percentile(diff_proportions, (1 - alpha / 2) * 100)\n",
        "\n",
        "print(f\"The 95% confidence interval is {ci_lower, ci_upper}\")\n",
        "\n",
        "plt.hist(diff_proportions, density = True, bins = 50, alpha = 0.6, color = 'red')\n",
        "plt.axvline(x = ci_lower, color = 'blue', linestyle = '--', label = f'Lower CI: {ci_lower}')\n",
        "plt.axvline(x = ci_upper, color = 'blue', linestyle = '--', label = f'Upper CI: {ci_upper}')\n",
        "plt.legend()\n",
        "plt.show()"
      ],
      "metadata": {
        "colab": {
          "base_uri": "https://localhost:8080/",
          "height": 447
        },
        "id": "Cl3vIdYch_vK",
        "outputId": "1555b145-9daf-470c-9b1e-1966d4d769b9"
      },
      "execution_count": null,
      "outputs": [
        {
          "output_type": "stream",
          "name": "stdout",
          "text": [
            "The 95% confidence interval is (np.float64(0.0049999999999999975), np.float64(0.045000000000000005))\n"
          ]
        },
        {
          "output_type": "display_data",
          "data": {
            "text/plain": [
              "<Figure size 640x480 with 1 Axes>"
            ],
            "image/png": "[encoded data removed]"
          },
          "metadata": {}
        }
      ]
    },
    {
      "cell_type": "markdown",
      "source": [
        "## **✅ Case 4: Low Complexity (Sampling Distribution & Normal Approximation)**\n",
        "\n",
        "\n",
        "\n",
        "Scenario:\n",
        "A display ad campaign had an average session duration of 4.2 minutes across a random sample of 64 users. The historical population mean is 4 minutes with a standard deviation of 1.6 minutes.\n",
        "\n",
        "Question:\n",
        "Is this new campaign significantly increasing session time?\n",
        "\n",
        "Tasks:\n",
        "\n",
        "Compute the z-statistic using the sampling distribution of the mean.\n",
        "\n",
        "Calculate the p-value (two-tailed).\n",
        "\n",
        "State your conclusion at α = 0.05."
      ],
      "metadata": {
        "id": "bavS-TjcttcL"
      }
    },
    {
      "cell_type": "code",
      "source": [
        "n = 64\n",
        "mu = 4\n",
        "sd = 1.6\n",
        "pe = 4.2\n",
        "\n",
        "# h0: pe same as mu h1: pe != mu\n",
        "\n",
        "# let's check for independence: randomized.\n",
        "# check for SF here n > 30, so we can assume normality\n",
        "\n",
        "alpha = 0.05\n",
        "\n",
        "se = sd / np.sqrt(n)\n",
        "z_score = (pe - mu) / se\n",
        "z_critical = stats.norm.ppf(1 - alpha / 2)\n",
        "\n",
        "upper = pe + z_critical * se\n",
        "lower = pe - z_critical * se\n",
        "\n",
        "print(f\"The 95% confidence interval is {lower, upper}\")\n",
        "\n",
        "\n",
        "p_value = 2 * (1 - stats.norm.cdf(np.abs(z_score)))\n",
        "print(f\"The z score obtained is higher than z critical: {z_score > z_critical}\")\n",
        "print(f\" The p value is : {p_value} since {p_value < alpha} we can {'reject' if p_value < alpha else 'accept'} \")"
      ],
      "metadata": {
        "colab": {
          "base_uri": "https://localhost:8080/"
        },
        "id": "fSotCjMZh_0r",
        "outputId": "e215b022-2f27-477a-d8c7-aa4ec767e8e0"
      },
      "execution_count": null,
      "outputs": [
        {
          "output_type": "stream",
          "name": "stdout",
          "text": [
            "The 95% confidence interval is (np.float64(3.8080072030919894), np.float64(4.591992796908011))\n",
            "The z score obtained is higher than z critical: False\n",
            " The p value is : 0.3173105078629137 since False we can accept \n"
          ]
        }
      ]
    },
    {
      "cell_type": "markdown",
      "source": [
        "# **✅ Case 5: Medium Complexity (CLT + Bootstrapping Comparison)**\n",
        "\n",
        "\n",
        "**Scenario:**\n",
        "\n",
        "A product manager wants to compare the average number of ad impressions per session before and after a UI change.\n",
        "They sampled 60 sessions before and 60 after. The raw numbers are available in Python arrays.\n",
        "\n",
        "**Question:**\n",
        "\n",
        "Estimate the 95% confidence interval for the difference in means between before and after using:\n",
        "\n",
        "Normal approximation (assume population variance unknown).\n",
        "\n",
        "Bootstrapping (10,000 resamples).\n",
        "\n",
        "Tasks:\n",
        "\n",
        "Simulate two synthetic arrays using np.random.poisson(μ, 60) for both groups.\n",
        "\n",
        "Compute the t-based CI for difference in means.\n",
        "\n",
        "Compute the bootstrap-based CI and compare.\n",
        "\n",
        "Visualize the bootstrap distribution and discuss the differences."
      ],
      "metadata": {
        "id": "S4aC9AD5urO7"
      }
    },
    {
      "cell_type": "code",
      "source": [
        "import numpy as np\n",
        "import scipy.stats as stats\n",
        "\n",
        "# Simulate two synthetic arrays using np.random.poisson(μ, 60) for both groups.\n",
        "np.random.seed(42)\n",
        "\n",
        "lambda_before = 8\n",
        "lambda_after = 10\n",
        "before = np.random.poisson(lambda_before, 60)\n",
        "after = np.random.poisson(lambda_after, 60)\n",
        "\n",
        "# h0: both means are same, h1: means are different\n",
        "\n",
        "# independence: met as random. SF condition: n > 30, so we can use normality assumptions\n",
        "# pop variance is known, so we should use t distribution\n",
        "\n",
        "\n",
        "m1 = np.mean(before)\n",
        "m2 = np.mean(after)\n",
        "s1 = np.std(before)\n",
        "s2 = np.std(after)\n",
        "n1, n2 = 60, 60\n",
        "alpha = 0.05\n",
        "\n",
        "# pooled as they measure users before and after, paired\n",
        "# CORRECTION post chatGPT solution. We cannot use pooled as variances aren't equal since by definition I am taking before, after as diff values\n",
        "# CORRECTION...contd: The variance in poisson is lambda so they are different. We need to proceed with Welch's test\n",
        "\n",
        "# modify my code post the correction\n",
        "se = np.sqrt(s1 ** 2 / n1 + s2 ** 2 / n2)\n",
        "print(f\"the standard error is: {se}\")\n",
        "\n",
        "# dof is a very complicated equation\n",
        "# df = (s₁²/n₁ + s₂²/n₂)² / ((s₁²/n₁)²/(n₁-1) + (s₂²/n₂)²/(n₂-1))\n",
        "\n",
        "dof = (s1 ** 2 / n1 + s2 ** 2 / n2) ** 2 / (((s1 ** 2 / n1) ** 2) / (n1 - 1) + ((s2 ** 2 / n2) ** 2) / (n2 - 1))\n",
        "print(dof)\n",
        "\n",
        "t_score = (m2 - m1) / se\n",
        "print(m2-m1)\n",
        "\n",
        "\n",
        "t_critical = stats.t.ppf(1 - alpha / 2, df = dof)\n",
        "\n",
        "print(t_score, t_critical)\n",
        "\n",
        "p_value = 2 * (1 - stats.t.cdf(np.abs(t_score), df = dof))\n",
        "\n",
        "lower = (m2 - m1) - t_critical * se\n",
        "upper = (m2 - m1) + t_critical * se\n",
        "\n",
        "print(f\"The t score obtained is higher than t critical: {np.abs(t_score) > t_critical}\")\n",
        "print(f\" The p value is : {p_value} since {p_value < alpha / 2} we can {'reject' if p_value < alpha / 2 else 'accept'} \")\n",
        "print(f\"The upper and lower CI using t test is: {lower, upper}\")"
      ],
      "metadata": {
        "colab": {
          "base_uri": "https://localhost:8080/"
        },
        "id": "03TTKvuah_3N",
        "outputId": "c9e56a58-5dd7-47fb-bb64-c8c3cfc58485"
      },
      "execution_count": null,
      "outputs": [
        {
          "output_type": "stream",
          "name": "stdout",
          "text": [
            "the standard error is: 0.5209322128361523\n",
            "116.78288944415732\n",
            "1.466666666666666\n",
            "2.815465487690955 1.9804860696787252\n",
            "The t score obtained is higher than t critical: True\n",
            " The p value is : 0.0057188605697362505 since True we can reject \n",
            "The upper and lower CI using t test is: (np.float64(0.4349676758977534), np.float64(2.4983656574355786))\n"
          ]
        }
      ]
    },
    {
      "cell_type": "code",
      "source": [
        "# bootstrap this\n",
        "\n",
        "lambda_before = 8\n",
        "lambda_after = 10\n",
        "before = np.random.poisson(lambda_before, 60)\n",
        "after = np.random.poisson(lambda_after, 60)\n",
        "\n",
        "alpha = 0.05\n",
        "\n",
        "diff_bef_aft = []\n",
        "sims = 10000\n",
        "\n",
        "for i in range(sims + 1):\n",
        "\n",
        "  bef = np.random.choice(before, size = 60, replace = True)\n",
        "  aft = np.random.choice(after, size = 60, replace = True)\n",
        "  diff_bef_aft.append(np.mean(aft) - np.mean(bef))\n",
        "\n",
        "print(np.mean(diff_bef_aft))\n",
        "\n",
        "ci_lower = np.percentile(diff_bef_aft, 2.5)\n",
        "ci_upper = np.percentile(diff_bef_aft, 97.5)\n",
        "\n",
        "print(f\"The upper and lower CI using Bootstrapping is: {ci_lower, ci_upper}\")"
      ],
      "metadata": {
        "colab": {
          "base_uri": "https://localhost:8080/"
        },
        "id": "nvUE2uOnh_51",
        "outputId": "fc2178cb-53b8-4f11-89b7-f81b866d7629"
      },
      "execution_count": null,
      "outputs": [
        {
          "output_type": "stream",
          "name": "stdout",
          "text": [
            "2.5260690597606907\n",
            "The upper and lower CI using Bootstrapping is: (np.float64(1.3499999999999996), np.float64(3.6833333333333327))\n"
          ]
        }
      ]
    },
    {
      "cell_type": "code",
      "source": [
        "plt.hist(diff_bef_aft, density = True, bins = 50, alpha = 0.6, color = 'red')\n",
        "plt.axvline(x = ci_lower, color = 'blue', linestyle = '--', label = f'Lower CI: {ci_lower}')\n",
        "plt.axvline(x = ci_upper, color = 'blue', linestyle = '--', label = f'Upper CI: {ci_upper}')\n",
        "plt.legend()\n",
        "plt.show()"
      ],
      "metadata": {
        "colab": {
          "base_uri": "https://localhost:8080/",
          "height": 430
        },
        "id": "YZI5wezLh_8c",
        "outputId": "b210049e-4dda-431d-8c46-e7f5da5a8075"
      },
      "execution_count": null,
      "outputs": [
        {
          "output_type": "display_data",
          "data": {
            "text/plain": [
              "<Figure size 640x480 with 1 Axes>"
            ],
            "image/png": "[encoded data removed]"
          },
          "metadata": {}
        }
      ]
    },
    {
      "cell_type": "code",
      "source": [
        "# chatGPT solution\n",
        "\n",
        "import numpy as np\n",
        "import scipy.stats as stats\n",
        "import matplotlib.pyplot as plt\n",
        "\n",
        "# Set random seed for reproducibility\n",
        "np.random.seed(42)\n",
        "\n",
        "# --- Generate synthetic data ---\n",
        "# before = np.random.poisson(8, 60)   # Before UI change\n",
        "# after = np.random.poisson(10, 60)   # After UI change\n",
        "\n",
        "# --- Welch's t-test-based CI (95%) ---\n",
        "mean_diff = after.mean() - before.mean()\n",
        "print(mean_diff)\n",
        "\n",
        "# Standard error of the difference\n",
        "se_diff = np.sqrt(np.var(before, ddof=1)/len(before) + np.var(after, ddof=1)/len(after))\n",
        "print(f\"the standard error is: {se_diff}\")\n",
        "\n",
        "# Degrees of freedom using Welch-Satterthwaite equation\n",
        "df_num = (np.var(before, ddof=1)/len(before) + np.var(after, ddof=1)/len(after))**2\n",
        "df_denom = ((np.var(before, ddof=1)/len(before))**2 / (len(before)-1) +\n",
        "            (np.var(after, ddof=1)/len(after))**2 / (len(after)-1))\n",
        "df = df_num / df_denom\n",
        "print(df)\n",
        "\n",
        "# t critical value\n",
        "t_crit = stats.t.ppf(0.975, df)\n",
        "print(f\"t critical value is: {t_crit}\")\n",
        "\n",
        "# 95% CI using t-distribution\n",
        "ci_t = (mean_diff - t_crit * se_diff, mean_diff + t_crit * se_diff)\n",
        "\n",
        "print(\"Welch's t-based 95% CI:\", ci_t)"
      ],
      "metadata": {
        "colab": {
          "base_uri": "https://localhost:8080/"
        },
        "id": "yoW7K0c-iACC",
        "outputId": "4b46a1de-0688-457c-a7aa-5d65650e1d22"
      },
      "execution_count": null,
      "outputs": [
        {
          "output_type": "stream",
          "name": "stdout",
          "text": [
            "1.466666666666666\n",
            "the standard error is: 0.5253283432038081\n",
            "116.7828894441573\n",
            "t critical value is: 1.9804860696787252\n",
            "Welch's t-based 95% CI: (np.float64(0.42626120094411957), np.float64(2.5070721323892124))\n"
          ]
        }
      ]
    },
    {
      "cell_type": "code",
      "source": [
        "# --- Bootstrapping (95% CI) ---\n",
        "n_boot = 10000\n",
        "boot_diffs = []\n",
        "\n",
        "for _ in range(n_boot):\n",
        "    sample_before = np.random.choice(before, size=len(before), replace=True)\n",
        "    sample_after = np.random.choice(after, size=len(after), replace=True)\n",
        "    boot_diffs.append(np.mean(sample_after) - np.mean(sample_before))\n",
        "\n",
        "# Bootstrap CI\n",
        "ci_boot = np.percentile(boot_diffs, [2.5, 97.5])\n",
        "boot_mean_diff = np.mean(boot_diffs)\n",
        "\n",
        "# --- Plotting ---\n",
        "plt.hist(boot_diffs, bins=50, density=True, alpha=0.7)\n",
        "plt.axvline(ci_boot[0], color='red', linestyle='--', label=f\"2.5% = {ci_boot[0]:.2f}\")\n",
        "plt.axvline(ci_boot[1], color='green', linestyle='--', label=f\"97.5% = {ci_boot[1]:.2f}\")\n",
        "plt.axvline(boot_mean_diff, color='black', linestyle='-', label='Mean Diff')\n",
        "plt.title(\"Bootstrap CI: Mean Difference (After - Before)\")\n",
        "plt.xlabel(\"Mean Difference\")\n",
        "plt.ylabel(\"Density\")\n",
        "plt.legend()\n",
        "plt.tight_layout()\n",
        "plt.show()\n",
        "\n",
        "# --- Output the results ---\n",
        "print(\"Welch's t-based 95% CI:\", ci_t)\n",
        "print(\"Bootstrap 95% CI:\", tuple(ci_boot))\n",
        "print(\"Bootstrap Mean Difference:\", boot_mean_diff)\n",
        "\n"
      ],
      "metadata": {
        "colab": {
          "base_uri": "https://localhost:8080/",
          "height": 539
        },
        "id": "jlbcqsw8iAE6",
        "outputId": "56908c6f-3942-4340-b965-7e8b7f210bc8"
      },
      "execution_count": null,
      "outputs": [
        {
          "output_type": "display_data",
          "data": {
            "text/plain": [
              "<Figure size 640x480 with 1 Axes>"
            ],
            "image/png": "[encoded data removed]"
          },
          "metadata": {}
        },
        {
          "output_type": "stream",
          "name": "stdout",
          "text": [
            "Welch's t-based 95% CI: (np.float64(0.42626120094411957), np.float64(2.5070721323892124))\n",
            "Bootstrap 95% CI: (np.float64(0.4499999999999993), np.float64(2.5166666666666666))\n",
            "Bootstrap Mean Difference: 1.4721983333333333\n"
          ]
        }
      ]
    },
    {
      "cell_type": "markdown",
      "source": [
        "# **✅ Case 6: High Complexity (Two-Sample Test for Proportions + Monte Carlo Power Analysis)**\n",
        "\n",
        "\n",
        "\n",
        "Scenario:\n",
        "You're running an A/B test comparing two ad creatives:\n",
        "\n",
        "Control has 5.0% CTR on 5,000 impressions.\n",
        "\n",
        "Treatment has 5.7% CTR on 5,000 impressions.\n",
        "\n",
        "Question:\n",
        "Determine whether this lift is statistically significant using:\n",
        "\n",
        "Z-test for proportions.\n",
        "\n",
        "Monte Carlo simulation to estimate statistical power at α = 0.05 if the true CTR lift is 0.7%.\n",
        "\n",
        "Tasks:\n",
        "\n",
        "Compute z-test and interpret.\n",
        "\n",
        "Write a Monte Carlo simulation to:\n",
        "\n",
        "Simulate 10,000 tests under the true difference (0.057 vs 0.05),\n",
        "\n",
        "Calculate the proportion of tests that reject the null at α = 0.05.\n",
        "\n",
        "Report the estimated power of the test.\n",
        "\n",
        "Would you recommend increasing sample size?"
      ],
      "metadata": {
        "id": "dl1-CiNM7RSz"
      }
    },
    {
      "cell_type": "code",
      "source": [
        "p1 = 0.050\n",
        "p2 = 0.057\n",
        "\n",
        "n1, n2 = 5000, 5000\n",
        "alpha = 0.05\n",
        "\n",
        "# z test for proportions\n",
        "\n",
        "p = (p1 * n1 + p2 * n2 )/ (n1 + n2)\n",
        "se = np.sqrt(p * (1 - p) * (1 / n1 + 1 / n2))\n",
        "print(p, se)\n",
        "\n",
        "z_score = (p1 - p2) / se\n",
        "z_critical = stats.norm.ppf(1 - alpha / 2)\n",
        "\n",
        "p_value = 2 * (1 - stats.norm.cdf(np.abs(z_score)))\n",
        "\n",
        "lower = (p1 - p2) - z_critical * se\n",
        "upper = (p1 - p2) + z_critical * se\n",
        "\n",
        "\n",
        "print(f\"The z score {z_score} obtained is higher than z critical: {np.abs(z_score) > z_critical}\")\n",
        "print(f\" The p value is : {p_value} since {p_value < alpha / 2} we can {'reject' if p_value < alpha / 2 else 'accept'} \")\n",
        "print(f\"The upper and lower CI using t test is: {lower, upper}\")\n"
      ],
      "metadata": {
        "colab": {
          "base_uri": "https://localhost:8080/"
        },
        "id": "ceWJrXI57QNV",
        "outputId": "55c996ad-94a9-4937-eaff-e72a60388125"
      },
      "execution_count": null,
      "outputs": [
        {
          "output_type": "stream",
          "name": "stdout",
          "text": [
            "0.0535 0.004500566630992147\n",
            "The z score -1.5553597077745862 obtained is higher than z critical: False\n",
            " The p value is : 0.11986042453400936 since False we can accept \n",
            "The upper and lower CI using t test is: (np.float64(-0.015820948506767372), np.float64(0.0018209485067673756))\n"
          ]
        }
      ]
    },
    {
      "cell_type": "code",
      "source": [
        "# Write a Monte Carlo simulation to:\n",
        "\n",
        "# Simulate 10,000 tests under the true difference (0.057 vs 0.05),\n",
        "\n",
        "\n",
        "sims = 10000\n",
        "diff_means = []\n",
        "rejections = 0\n",
        "\n",
        "for _ in range(sims + 1):\n",
        "\n",
        "  sample1 = np.random.binomial(1, p1, size = 5000)\n",
        "  sample2 = np.random.binomial(1, p2, size = 5000)\n",
        "  p1 = np.mean(sample1)\n",
        "  p2 = np.mean(sample2)\n",
        "  diff_means.append(p1 - p2)\n",
        "\n",
        "  # Use pooled proportion from simulated samples\n",
        "  p_pool_sim = (p1 + p2) / 2\n",
        "  se_sim = np.sqrt(p_pool_sim * (1 - p_pool_sim) * (1 / n1  + 1 / n2))\n",
        "\n",
        "  z_sim = (p2 - p1) / se_sim\n",
        "  p_val_sim = 2 * (1 - stats.norm.cdf(abs(z_sim)))\n",
        "\n",
        "  if p_val_sim < alpha:\n",
        "    rejections += 1\n",
        "\n",
        "\n",
        "# Calculate the CI for diff in means at α = 0.05.\n",
        "\n",
        "ci_lower = np.percentile(diff_means, 2.5)\n",
        "ci_upper = np.percentile(diff_means, 97.5)\n",
        "print(f\"The upper and lower CI using Bootstrapping is: {ci_lower, ci_upper}\")\n",
        "\n",
        "power = rejections / sims\n",
        "print(f\"Estimated Power (for 0.7% true lift): {power:.4f}\")\n",
        "\n",
        "# Calculate the proportion of tests that reject the null at α = 0.05.\n",
        "prop_test_reject = np.mean(np.abs(diff_means) >= 0.007)\n",
        "print(f\"Via Monte Carlo method proportion of tests where difference is more than 7% is: {prop_test_reject}\")\n"
      ],
      "metadata": {
        "colab": {
          "base_uri": "https://localhost:8080/"
        },
        "id": "YW7oRMuc7QQN",
        "outputId": "5cd76908-b0b2-4a79-db64-70ffcc11a67e"
      },
      "execution_count": null,
      "outputs": [
        {
          "output_type": "stream",
          "name": "stderr",
          "text": [
            "/tmp/ipython-input-78-2172133989.py:22: RuntimeWarning: invalid value encountered in scalar divide\n",
            "  z_sim = (p2 - p1) / se_sim\n"
          ]
        },
        {
          "output_type": "stream",
          "name": "stdout",
          "text": [
            "The upper and lower CI using Bootstrapping is: (np.float64(0.0), np.float64(0.028))\n",
            "Estimated Power (for 0.7% true lift): 0.0984\n",
            "Via Monte Carlo method proportion of tests where difference is more than 7% is: 0.08899110088991101\n"
          ]
        }
      ]
    },
    {
      "cell_type": "code",
      "source": [
        "# chat GPT solution to the above problem\n",
        "\n",
        "import numpy as np\n",
        "import scipy.stats as stats\n",
        "import matplotlib.pyplot as plt\n",
        "\n",
        "# --- Parameters ---\n",
        "n = 5000  # sample size per group\n",
        "p_control = 0.050  # CTR for control group\n",
        "p_treatment = 0.057  # CTR for treatment group\n",
        "alpha = 0.05  # significance level\n",
        "\n",
        "# --- Step 1: Z-test for observed proportions ---\n",
        "# Pooled proportion\n",
        "p_pool = (p_control + p_treatment) / 2\n",
        "se_pool = np.sqrt(p_pool * (1 - p_pool) * (2 / n))\n",
        "z_stat = (p_treatment - p_control) / se_pool\n",
        "p_value = 2 * (1 - stats.norm.cdf(abs(z_stat)))\n",
        "\n",
        "print(p_pool, se_pool)\n",
        "print(f\"Z-statistic: {z_stat:.4f}\")\n",
        "print(f\"Two-sided p-value: {p_value:.4f}\")\n",
        "\n",
        "# # --- Step 2: Monte Carlo Simulation for Power Estimation ---\n",
        "np.random.seed(42)\n",
        "n_sim = 10000\n",
        "rejections = 0\n",
        "\n",
        "for _ in range(n_sim):\n",
        "    sample_control = np.random.binomial(1, p_control, n)\n",
        "    sample_treatment = np.random.binomial(1, p_treatment, n)\n",
        "\n",
        "    p1 = sample_control.mean()\n",
        "    p2 = sample_treatment.mean()\n",
        "\n",
        "    # Use pooled proportion from simulated samples\n",
        "    p_pool_sim = (p1 + p2) / 2\n",
        "    se_sim = np.sqrt(p_pool_sim * (1 - p_pool_sim) * (2 / n))\n",
        "\n",
        "    z_sim = (p2 - p1) / se_sim\n",
        "    p_val_sim = 2 * (1 - stats.norm.cdf(abs(z_sim)))\n",
        "\n",
        "    if p_val_sim < alpha:\n",
        "        rejections += 1\n",
        "\n",
        "power = rejections / n_sim\n",
        "print(f\"Estimated Power (for 0.7% true lift): {power:.4f}\")\n"
      ],
      "metadata": {
        "id": "hVhXjiY_7QVc",
        "colab": {
          "base_uri": "https://localhost:8080/"
        },
        "outputId": "012122c8-8722-4ae3-e705-c0b7858dc92e"
      },
      "execution_count": null,
      "outputs": [
        {
          "output_type": "stream",
          "name": "stdout",
          "text": [
            "0.053500000000000006 0.0045005666309921475\n",
            "Z-statistic: 1.5554\n",
            "Two-sided p-value: 0.1199\n",
            "Estimated Power (for 0.7% true lift): 0.3391\n"
          ]
        }
      ]
    },
    {
      "cell_type": "code",
      "source": [],
      "metadata": {
        "id": "6vs3bYIz7QYL"
      },
      "execution_count": null,
      "outputs": []
    },
    {
      "cell_type": "code",
      "source": [],
      "metadata": {
        "id": "V9ygMn3G7Qa0"
      },
      "execution_count": null,
      "outputs": []
    },
    {
      "cell_type": "code",
      "source": [],
      "metadata": {
        "id": "vUxXxvSW7Qdt"
      },
      "execution_count": null,
      "outputs": []
    },
    {
      "cell_type": "code",
      "source": [],
      "metadata": {
        "id": "5n1z3gsd7QgW"
      },
      "execution_count": null,
      "outputs": []
    },
    {
      "cell_type": "code",
      "source": [],
      "metadata": {
        "id": "zr7Q-7A3iAHU"
      },
      "execution_count": null,
      "outputs": []
    },
    {
      "cell_type": "code",
      "source": [],
      "metadata": {
        "id": "JsUzbBNViAKS"
      },
      "execution_count": null,
      "outputs": []
    }
  ]
}