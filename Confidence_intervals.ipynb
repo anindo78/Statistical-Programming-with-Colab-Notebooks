{
  "cells": [
    {
      "cell_type": "markdown",
      "metadata": {
        "id": "view-in-github",
        "colab_type": "text"
      },
      "source": [
        "<a href=\"https://colab.research.google.com/github/anindo78/Statistical-Programming-with-Colab-Notebooks/blob/main/Confidence_intervals.ipynb\" target=\"_parent\"><img src=\"https://colab.research.google.com/assets/colab-badge.svg\" alt=\"Open In Colab\"/></a>"
      ]
    },
    {
      "cell_type": "markdown",
      "id": "0563f98f",
      "metadata": {
        "id": "0563f98f"
      },
      "source": [
        "What does 95% confidence internal mean? Suppose that distribution of a population is normal with mean of 100 and SD = 10 how would you write a simulation that demonstrates that the 95% confidence internal of the mean contains the true mean about 95% of the time?"
      ]
    },
    {
      "cell_type": "code",
      "execution_count": null,
      "id": "2cc12510",
      "metadata": {
        "id": "2cc12510"
      },
      "outputs": [],
      "source": [
        "import numpy as np\n",
        "import scipy.stats as stats\n",
        "import matplotlib.pyplot as plt\n",
        "import random"
      ]
    },
    {
      "cell_type": "code",
      "execution_count": null,
      "id": "473ad2e8",
      "metadata": {
        "id": "473ad2e8",
        "outputId": "dfaa4c60-9c0f-4cf9-f170-0d001ed645f7"
      },
      "outputs": [
        {
          "name": "stdout",
          "output_type": "stream",
          "text": [
            "The confidence intervals for a normal distribution with mean: 100 and standard deviation: 10 with a       sample size of 10000 is: 111.96 and 88.04\n"
          ]
        }
      ],
      "source": [
        "# set seed\n",
        "random.seed(123)\n",
        "\n",
        "# parameters\n",
        "mu = 100\n",
        "sd = 10\n",
        "alpha = 0.05\n",
        "pop_size = 10000 # number in original population\n",
        "\n",
        "#derive the CI\n",
        "se = sd / np.sqrt(pop_size)\n",
        "z_value = stats.norm.ppf(1-alpha/2,loc=mu,scale=sd)\n",
        "\n",
        "\n",
        "upper_bound = mu + z_value * se\n",
        "lower_bound = mu - z_value * se\n",
        "\n",
        "print(f\"The confidence intervals for a normal distribution with mean: {mu} and standard deviation: {sd} with a \\\n",
        "      sample size of {pop_size} is: {round(upper_bound, 3)} and {round(lower_bound,3)}\")\n",
        "\n",
        "\n"
      ]
    },
    {
      "cell_type": "code",
      "execution_count": null,
      "id": "8bf9ede9",
      "metadata": {
        "id": "8bf9ede9",
        "outputId": "101091aa-0f34-4776-a8d5-525a891bf965"
      },
      "outputs": [
        {
          "name": "stdout",
          "output_type": "stream",
          "text": [
            "9511\n",
            "Number of times the sample mean lies in the CI: 0.9511\n"
          ]
        }
      ],
      "source": [
        "#now i want to draw samples\n",
        "\n",
        "n_samples = 10000\n",
        "sample_size=100\n",
        "count = 0\n",
        "alpha=0.05\n",
        "\n",
        "random.seed(123)\n",
        "\n",
        "for i in range(n_samples):\n",
        "    rv = stats.norm.rvs(loc=mu, scale=sd, size=sample_size)\n",
        "#     rv = np.random.normal(loc=mu, scale=sd, size=sample_size)\n",
        "\n",
        "    sample_sd = np.std(rv)\n",
        "    rv_mean = np.mean(rv)\n",
        "    se = sample_sd / np.sqrt(sample_size)\n",
        "\n",
        "#     se = stats.sem(rv)\n",
        "    t_value = stats.t.ppf(1-alpha/2, df=sample_size-1)\n",
        "\n",
        "    upper_bound_sample = rv_mean + (t_value * se)\n",
        "    lower_bound_sample = rv_mean - (t_value * se)\n",
        "\n",
        "#     lower_bound_sample, upper_bound_sample = stats.t.interval(alpha=0.95, df=sample_size-1,loc=rv_mean,scale=se)\n",
        "\n",
        "    #calculate the times that CI contains true population\n",
        "    if (mu > lower_bound_sample and mu < upper_bound_sample):\n",
        "        count += 1\n",
        "\n",
        "print(count)\n",
        "print(f\"Number of times the sample mean lies in the CI: {count / n_samples}\")\n",
        ""
      ]
    },
    {
      "cell_type": "code",
      "execution_count": null,
      "id": "b001f24a",
      "metadata": {
        "id": "b001f24a",
        "outputId": "2e62cac2-d368-4a0f-d199-021a2c3aefe3"
      },
      "outputs": [
        {
          "name": "stdout",
          "output_type": "stream",
          "text": [
            "97.89215838203545 102.06289046295736\n"
          ]
        }
      ],
      "source": [
        "lower_bound_sample, upper_bound_sample = stats.t.interval(alpha=0.95, df=sample_size-1,loc=rv_mean,scale=se)\n",
        "print(lower_bound_sample, upper_bound_sample)"
      ]
    },
    {
      "cell_type": "code",
      "execution_count": null,
      "id": "74c15d57",
      "metadata": {
        "id": "74c15d57"
      },
      "outputs": [],
      "source": []
    },
    {
      "cell_type": "code",
      "execution_count": null,
      "id": "77eeb788",
      "metadata": {
        "id": "77eeb788"
      },
      "outputs": [],
      "source": []
    }
  ],
  "metadata": {
    "kernelspec": {
      "display_name": "Python 3",
      "language": "python",
      "name": "python3"
    },
    "language_info": {
      "codemirror_mode": {
        "name": "ipython",
        "version": 3
      },
      "file_extension": ".py",
      "mimetype": "text/x-python",
      "name": "python",
      "nbconvert_exporter": "python",
      "pygments_lexer": "ipython3",
      "version": "3.8.8"
    },
    "colab": {
      "provenance": [],
      "include_colab_link": true
    }
  },
  "nbformat": 4,
  "nbformat_minor": 5
}